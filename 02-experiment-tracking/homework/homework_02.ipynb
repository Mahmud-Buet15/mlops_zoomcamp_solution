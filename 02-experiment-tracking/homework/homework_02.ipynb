{
 "cells": [
  {
   "cell_type": "markdown",
   "metadata": {},
   "source": [
    "## Q1. Install MLflow\n",
    "What's the version that you have?"
   ]
  },
  {
   "cell_type": "code",
   "execution_count": 1,
   "metadata": {},
   "outputs": [
    {
     "name": "stdout",
     "output_type": "stream",
     "text": [
      "mlflow, version 2.19.0\n"
     ]
    }
   ],
   "source": [
    "!mlflow --version"
   ]
  },
  {
   "cell_type": "markdown",
   "metadata": {},
   "source": [
    "Answer: 2.19.0"
   ]
  },
  {
   "cell_type": "markdown",
   "metadata": {},
   "source": [
    "## Q2. Download and preprocess the data\n",
    "We'll use the Green Taxi Trip Records dataset to predict the duration of each trip.  \n",
    "Download the data for January, February and March 2023 in parquet format from here.    \n",
    "Use the script `preprocess_data.py` located in the folder homework to preprocess the data.  \n",
    "The script will:\n",
    "- load the data from the folder `<TAXI_DATA_FOLDER>` (the folder where you have downloaded the data),\n",
    "- fit a `DictVectorizer` on the training set (January 2023 data),\n",
    "- save the preprocessed datasets and the `DictVectorizer` to disk.  \n",
    "\n",
    "Your task is to download the datasets and then execute this command:\n",
    "\n",
    "`python preprocess_data.py --raw_data_path <TAXI_DATA_FOLDER> --dest_path ./output`  \n",
    "\n",
    "**Tip:** go to 02-experiment-tracking/homework/ folder before executing the command and change the value of <TAXI_DATA_FOLDER> to the location where you saved the data.\n",
    "\n",
    "How many files were saved to OUTPUT_FOLDER?\n",
    "- 1\n",
    "- 3\n",
    "- 4\n",
    "- 7"
   ]
  },
  {
   "cell_type": "code",
   "execution_count": null,
   "metadata": {},
   "outputs": [
    {
     "name": "stdout",
     "output_type": "stream",
     "text": [
      "--2025-03-15 21:20:32--  https://d37ci6vzurychx.cloudfront.net/trip-data/green_tripdata_2023-01.parquet\n",
      "Resolving d37ci6vzurychx.cloudfront.net (d37ci6vzurychx.cloudfront.net)... 3.164.82.160, 3.164.82.197, 3.164.82.112, ...\n",
      "Connecting to d37ci6vzurychx.cloudfront.net (d37ci6vzurychx.cloudfront.net)|3.164.82.160|:443... connected.\n",
      "HTTP request sent, awaiting response... 200 OK\n",
      "Length: 1427002 (1.4M) [binary/octet-stream]\n",
      "Saving to: ‘./data/green_tripdata_2023-01.parquet’\n",
      "\n",
      "./data/green_tripda 100%[===================>]   1.36M   878KB/s    in 1.6s    \n",
      "\n",
      "2025-03-15 21:20:35 (878 KB/s) - ‘./data/green_tripdata_2023-01.parquet’ saved [1427002/1427002]\n",
      "\n",
      "--2025-03-15 21:20:35--  https://d37ci6vzurychx.cloudfront.net/trip-data/green_tripdata_2023-02.parquet\n",
      "Resolving d37ci6vzurychx.cloudfront.net (d37ci6vzurychx.cloudfront.net)... 3.164.82.197, 3.164.82.112, 3.164.82.40, ...\n",
      "Connecting to d37ci6vzurychx.cloudfront.net (d37ci6vzurychx.cloudfront.net)|3.164.82.197|:443... connected.\n",
      "HTTP request sent, awaiting response... 200 OK\n",
      "Length: 1533740 (1.5M) [binary/octet-stream]\n",
      "Saving to: ‘./data/green_tripdata_2023-02.parquet’\n",
      "\n",
      "./data/green_tripda 100%[===================>]   1.46M   478KB/s    in 3.1s    \n",
      "\n",
      "2025-03-15 21:20:39 (478 KB/s) - ‘./data/green_tripdata_2023-02.parquet’ saved [1533740/1533740]\n",
      "\n",
      "--2025-03-15 21:20:39--  https://d37ci6vzurychx.cloudfront.net/trip-data/green_tripdata_2023-03.parquet\n",
      "Resolving d37ci6vzurychx.cloudfront.net (d37ci6vzurychx.cloudfront.net)... 3.164.82.112, 3.164.82.40, 3.164.82.160, ...\n",
      "Connecting to d37ci6vzurychx.cloudfront.net (d37ci6vzurychx.cloudfront.net)|3.164.82.112|:443... connected.\n",
      "HTTP request sent, awaiting response... 200 OK\n",
      "Length: 1730999 (1.7M) [binary/octet-stream]\n",
      "Saving to: ‘./data/green_tripdata_2023-03.parquet’\n",
      "\n",
      "./data/green_tripda 100%[===================>]   1.65M   934KB/s    in 1.8s    \n",
      "\n",
      "2025-03-15 21:20:42 (934 KB/s) - ‘./data/green_tripdata_2023-03.parquet’ saved [1730999/1730999]\n",
      "\n"
     ]
    }
   ],
   "source": [
    "#downloading the data\n",
    "!wget https://d37ci6vzurychx.cloudfront.net/trip-data/green_tripdata_2023-01.parquet -O ./data/green_tripdata_2023-01.parquet\n",
    "!wget https://d37ci6vzurychx.cloudfront.net/trip-data/green_tripdata_2023-02.parquet -O ./data/green_tripdata_2023-02.parquet\n",
    "!wget https://d37ci6vzurychx.cloudfront.net/trip-data/green_tripdata_2023-03.parquet -O ./data/green_tripdata_2023-03.parquet"
   ]
  },
  {
   "cell_type": "code",
   "execution_count": 4,
   "metadata": {},
   "outputs": [],
   "source": [
    "#executing the preprocessing script\n",
    "!python preprocess_data.py --raw_data_path ./data --dest_path ./output"
   ]
  },
  {
   "cell_type": "markdown",
   "metadata": {},
   "source": [
    "Answer: 4"
   ]
  },
  {
   "cell_type": "markdown",
   "metadata": {},
   "source": [
    "## Q3. Train a model with autolog\n",
    "We will train a `RandomForestRegressor` (from Scikit-Learn) on the taxi dataset.\n",
    "We have prepared the training script `train.py` for this exercise, which can be also found in the folder homework.\n",
    "\n",
    "The script will:\n",
    "- load the datasets produced by the previous step,\n",
    "- train the model on the training set,\n",
    "- calculate the RMSE score on the validation set.  \n",
    "\n",
    "Your task is to modify the script to enable **autologging** with MLflow, execute the script and then launch the MLflow UI to check that the experiment run was properly tracked.\n",
    "\n",
    "Tip 1: don't forget to wrap the training code with a with `mlflow.start_run():` statement as we showed in the videos.\n",
    "\n",
    "Tip 2: don't modify the hyperparameters of the model to make sure that the training will finish quickly.\n",
    "\n",
    "What is the value of the `min_samples_split` parameter:\n",
    "- 2\n",
    "- 4\n",
    "- 8\n",
    "- 10"
   ]
  },
  {
   "cell_type": "code",
   "execution_count": 6,
   "metadata": {},
   "outputs": [
    {
     "name": "stdout",
     "output_type": "stream",
     "text": [
      "2025/03/15 22:06:33 WARNING mlflow.utils.autologging_utils: MLflow sklearn autologging is known to be compatible with 0.24.1 <= scikit-learn <= 1.5.2, but the installed version is 1.6.1. If you encounter errors during autologging, try upgrading / downgrading scikit-learn to a compatible version, or try upgrading MLflow.\n",
      "2025/03/15 22:06:33 WARNING mlflow.sklearn: Failed to log training dataset information to MLflow Tracking. Reason: 'numpy.ndarray' object has no attribute 'toarray'\n"
     ]
    }
   ],
   "source": [
    "!python train.py"
   ]
  },
  {
   "cell_type": "markdown",
   "metadata": {},
   "source": [
    "Running the following command to start the tracking server after coming to `02-experiment-tracking/homework` directory  \n",
    "`mlflow server --backend-store-uri sqlite:///mlflow_backend.db --default-artifact-root ./artifacts_local_homework`"
   ]
  },
  {
   "cell_type": "markdown",
   "metadata": {},
   "source": [
    "Answer: 2"
   ]
  },
  {
   "cell_type": "markdown",
   "metadata": {},
   "source": [
    "## Q4. Launch the tracking server locally\n",
    "Now we want to manage the entire lifecycle of our ML model. In this step, you'll need to launch a tracking server. This way we will also have access to the model registry.\n",
    "\n",
    "Your task is to:\n",
    "- launch the tracking server on your local machine,\n",
    "- select a SQLite db for the backend store and a folder called `artifacts` for the artifacts store.  \n",
    "\n",
    "You should keep the tracking server running to work on the next two exercises that use the server.\n",
    "\n",
    "In addition to backend-store-uri, what else do you need to pass to properly configure the server?\n",
    "- default-artifact-root\n",
    "- serve-artifacts\n",
    "- artifacts-only\n",
    "- artifacts-destination"
   ]
  },
  {
   "cell_type": "markdown",
   "metadata": {},
   "source": [
    "Answer: default-artifact-root"
   ]
  },
  {
   "cell_type": "markdown",
   "metadata": {},
   "source": [
    "## Q5. Tune model hyperparameters\n",
    "Now let's try to reduce the validation error by tuning the hyperparameters of the `RandomForestRegressor` using `hyperopt`. We have prepared the script `hpo.py` for this exercise.\n",
    "\n",
    "Your task is to modify the script `hpo.py` and make sure that the validation RMSE is logged to the tracking server for each run of the hyperparameter optimization (you will need to add a few lines of code to the objective function) and run the script without passing any parameters.\n",
    "\n",
    "After that, open UI and explore the runs from the experiment called `random-forest-hyperopt` to answer the question below.\n",
    "\n",
    "**Note:** Don't use autologging for this exercise.\n",
    "\n",
    "The idea is to just log the information that you need to answer the question below, including:\n",
    "- the list of hyperparameters that are passed to the objective function during the optimization,\n",
    "- the RMSE obtained on the validation set (February 2023 data).\n",
    "\n",
    "What's the best validation `RMSE` that you got?\n",
    "- 4.817\n",
    "- 5.335\n",
    "- 5.818\n",
    "- 6.336"
   ]
  },
  {
   "cell_type": "code",
   "execution_count": 7,
   "metadata": {},
   "outputs": [
    {
     "name": "stdout",
     "output_type": "stream",
     "text": [
      "2025/03/15 22:12:07 INFO mlflow.tracking.fluent: Experiment with name 'random-forest-hyperopt' does not exist. Creating a new experiment.\n",
      "🏃 View run gregarious-wren-403 at: http://127.0.0.1:5000/#/experiments/2/runs/9658bdc3cb5a4a969040b3c028e4fb4c\n",
      "\n",
      "🧪 View experiment at: http://127.0.0.1:5000/#/experiments/2                    \n",
      "\n",
      "🏃 View run valuable-toad-958 at: http://127.0.0.1:5000/#/experiments/2/runs/c84d5a01824542688e40f2e35faf4335\n",
      "\n",
      "🧪 View experiment at: http://127.0.0.1:5000/#/experiments/2                    \n",
      "\n",
      "🏃 View run suave-boar-120 at: http://127.0.0.1:5000/#/experiments/2/runs/cea99f3c986d4ea8b5a7643fbbd988cf\n",
      "\n",
      "🧪 View experiment at: http://127.0.0.1:5000/#/experiments/2                    \n",
      "\n",
      "🏃 View run gaudy-crane-543 at: http://127.0.0.1:5000/#/experiments/2/runs/5ab2f9e16eaf4669925eabbd77a472f4\n",
      "\n",
      "🧪 View experiment at: http://127.0.0.1:5000/#/experiments/2                    \n",
      "\n",
      "🏃 View run kindly-ape-334 at: http://127.0.0.1:5000/#/experiments/2/runs/070c77af69b7444f8260d5d6e873ac16\n",
      "\n",
      "🧪 View experiment at: http://127.0.0.1:5000/#/experiments/2                    \n",
      "\n",
      "🏃 View run rebellious-gnat-757 at: http://127.0.0.1:5000/#/experiments/2/runs/863fa13610904337b7419a573ffc5860\n",
      "\n",
      "🧪 View experiment at: http://127.0.0.1:5000/#/experiments/2                    \n",
      "\n",
      "🏃 View run masked-dove-425 at: http://127.0.0.1:5000/#/experiments/2/runs/88a612c4fbd343eca5eab4ecf0acd2ac\n",
      "\n",
      "🧪 View experiment at: http://127.0.0.1:5000/#/experiments/2                    \n",
      "\n",
      "🏃 View run dashing-donkey-534 at: http://127.0.0.1:5000/#/experiments/2/runs/374d0a0d66074abdbfbacd1683514909\n",
      "\n",
      "🧪 View experiment at: http://127.0.0.1:5000/#/experiments/2                    \n",
      "\n",
      "🏃 View run loud-turtle-854 at: http://127.0.0.1:5000/#/experiments/2/runs/a1637cee92a845ea9870ae7e55ea929d\n",
      "\n",
      "🧪 View experiment at: http://127.0.0.1:5000/#/experiments/2                    \n",
      "\n",
      "🏃 View run bittersweet-cat-215 at: http://127.0.0.1:5000/#/experiments/2/runs/840344e10aa24632bc6a77fd0ad426d1\n",
      "\n",
      "🧪 View experiment at: http://127.0.0.1:5000/#/experiments/2                    \n",
      "\n",
      "🏃 View run unique-hound-246 at: http://127.0.0.1:5000/#/experiments/2/runs/0706e16841e7446092d526b4b5d368cc\n",
      "\n",
      "🧪 View experiment at: http://127.0.0.1:5000/#/experiments/2                    \n",
      "\n",
      "🏃 View run thoughtful-hare-662 at: http://127.0.0.1:5000/#/experiments/2/runs/91e5b3f3751a4511b79b5a1100105737\n",
      "\n",
      "🧪 View experiment at: http://127.0.0.1:5000/#/experiments/2                    \n",
      "\n",
      "🏃 View run amusing-dog-428 at: http://127.0.0.1:5000/#/experiments/2/runs/2362ef6532b3487989bdc343fceed025\n",
      "\n",
      "🧪 View experiment at: http://127.0.0.1:5000/#/experiments/2                    \n",
      "\n",
      "🏃 View run masked-shrew-655 at: http://127.0.0.1:5000/#/experiments/2/runs/20c68f47989b4a829ecc56debef51b75\n",
      "\n",
      "🧪 View experiment at: http://127.0.0.1:5000/#/experiments/2                    \n",
      "\n",
      "🏃 View run bittersweet-perch-93 at: http://127.0.0.1:5000/#/experiments/2/runs/53f66f67bbd442a78fef34c133e6b3a7\n",
      "\n",
      "🧪 View experiment at: http://127.0.0.1:5000/#/experiments/2                    \n",
      "\n",
      "100%|██████████| 15/15 [00:28<00:00,  1.88s/trial, best loss: 5.335419588556921]\n"
     ]
    }
   ],
   "source": [
    "!python hpo.py"
   ]
  },
  {
   "cell_type": "markdown",
   "metadata": {},
   "source": [
    "Answer: 5.335"
   ]
  },
  {
   "cell_type": "markdown",
   "metadata": {},
   "source": [
    "## Q6. Promote the best model to the model registry\n",
    "The results from the hyperparameter optimization are quite good. So, we can assume that we are ready to test some of these models in production. In this exercise, you'll promote the best model to the model registry. We have prepared a script called `register_model.py`, which will check the results from the previous step and select the top 5 runs. After that, it will calculate the RMSE of those models on the `test set` (March 2023 data) and save the results to a new experiment called `random-forest-best-models`.\n",
    "\n",
    "Your task is to update the script `register_model.py` so that it selects the model with the **lowest RMSE** on the test set and registers it to the model registry.\n",
    "\n",
    "**Tip 1:** you can use the method `search_runs` from the MlflowClient to get the model with the lowest RMSE,  \n",
    "**Tip 2:** to register the model you can use the method` mlflow.register_model` and you will need to pass the right model_uri in the form of a string that looks like this: \"runs:/<RUN_ID>/model\", and the name of the model (make sure to choose a good one!).\n",
    "\n",
    "What is the test RMSE of the best model?\n",
    "- 5.060\n",
    "- 5.567\n",
    "- 6.061\n",
    "- 6.568"
   ]
  },
  {
   "cell_type": "markdown",
   "metadata": {},
   "source": [
    "### Understanding the register_model.py function"
   ]
  },
  {
   "cell_type": "code",
   "execution_count": 16,
   "metadata": {},
   "outputs": [],
   "source": [
    "import mlflow\n",
    "from mlflow.tracking import MlflowClient\n",
    "from mlflow.entities import ViewType"
   ]
  },
  {
   "cell_type": "code",
   "execution_count": 9,
   "metadata": {},
   "outputs": [
    {
     "name": "stderr",
     "output_type": "stream",
     "text": [
      "2025/03/15 22:38:11 INFO mlflow.tracking.fluent: Experiment with name 'random-forest-best-models' does not exist. Creating a new experiment.\n",
      "2025/03/15 22:38:11 WARNING mlflow.utils.autologging_utils: MLflow sklearn autologging is known to be compatible with 0.24.1 <= scikit-learn <= 1.5.2, but the installed version is 1.6.1. If you encounter errors during autologging, try upgrading / downgrading scikit-learn to a compatible version, or try upgrading MLflow.\n"
     ]
    }
   ],
   "source": [
    "HPO_EXPERIMENT_NAME = \"random-forest-hyperopt\"\n",
    "EXPERIMENT_NAME = \"random-forest-best-models\"\n",
    "RF_PARAMS = ['max_depth', 'n_estimators', 'min_samples_split', 'min_samples_leaf', 'random_state']\n",
    "\n",
    "mlflow.set_tracking_uri(\"http://127.0.0.1:5000\")\n",
    "mlflow.set_experiment(EXPERIMENT_NAME)\n",
    "mlflow.sklearn.autolog()"
   ]
  },
  {
   "cell_type": "code",
   "execution_count": 11,
   "metadata": {},
   "outputs": [],
   "source": [
    "client = MlflowClient()"
   ]
  },
  {
   "cell_type": "code",
   "execution_count": 12,
   "metadata": {},
   "outputs": [
    {
     "data": {
      "text/plain": [
       "<Experiment: artifact_location='/Users/mahmudhasan/Desktop/others/personal_projects/mlops_zoomcamp_solution/02-experiment-tracking/homework/artifacts_local_homework/2', creation_time=1742055127476, experiment_id='2', last_update_time=1742055127476, lifecycle_stage='active', name='random-forest-hyperopt', tags={}>"
      ]
     },
     "execution_count": 12,
     "metadata": {},
     "output_type": "execute_result"
    }
   ],
   "source": [
    "experiment=client.get_experiment_by_name(HPO_EXPERIMENT_NAME)\n",
    "experiment\n"
   ]
  },
  {
   "cell_type": "code",
   "execution_count": 15,
   "metadata": {},
   "outputs": [
    {
     "name": "stdout",
     "output_type": "stream",
     "text": [
      "2\n"
     ]
    }
   ],
   "source": [
    "#getting experiment_id\n",
    "print(experiment.experiment_id)"
   ]
  },
  {
   "cell_type": "code",
   "execution_count": 18,
   "metadata": {},
   "outputs": [
    {
     "data": {
      "text/plain": [
       "[<Run: data=<RunData: metrics={'rmse': 5.335419588556921}, params={'max_depth': '19',\n",
       "  'min_samples_leaf': '2',\n",
       "  'min_samples_split': '2',\n",
       "  'n_estimators': '11',\n",
       "  'random_state': '42'}, tags={'mlflow.runName': 'unique-hound-246',\n",
       "  'mlflow.source.git.commit': '9cfff2fc135ec779f9368854e18a9f114175b662',\n",
       "  'mlflow.source.name': 'hpo.py',\n",
       "  'mlflow.source.type': 'LOCAL',\n",
       "  'mlflow.user': 'mahmudhasan'}>, info=<RunInfo: artifact_uri='/Users/mahmudhasan/Desktop/others/personal_projects/mlops_zoomcamp_solution/02-experiment-tracking/homework/artifacts_local_homework/2/0706e16841e7446092d526b4b5d368cc/artifacts', end_time=1742055150085, experiment_id='2', lifecycle_stage='active', run_id='0706e16841e7446092d526b4b5d368cc', run_name='unique-hound-246', run_uuid='0706e16841e7446092d526b4b5d368cc', start_time=1742055148567, status='FINISHED', user_id='mahmudhasan'>, inputs=<RunInputs: dataset_inputs=[]>>,\n",
       " <Run: data=<RunData: metrics={'rmse': 5.354700855292386}, params={'max_depth': '15',\n",
       "  'min_samples_leaf': '2',\n",
       "  'min_samples_split': '3',\n",
       "  'n_estimators': '40',\n",
       "  'random_state': '42'}, tags={'mlflow.runName': 'rebellious-gnat-757',\n",
       "  'mlflow.source.git.commit': '9cfff2fc135ec779f9368854e18a9f114175b662',\n",
       "  'mlflow.source.name': 'hpo.py',\n",
       "  'mlflow.source.type': 'LOCAL',\n",
       "  'mlflow.user': 'mahmudhasan'}>, info=<RunInfo: artifact_uri='/Users/mahmudhasan/Desktop/others/personal_projects/mlops_zoomcamp_solution/02-experiment-tracking/homework/artifacts_local_homework/2/863fa13610904337b7419a573ffc5860/artifacts', end_time=1742055139630, experiment_id='2', lifecycle_stage='active', run_id='863fa13610904337b7419a573ffc5860', run_name='rebellious-gnat-757', run_uuid='863fa13610904337b7419a573ffc5860', start_time=1742055135620, status='FINISHED', user_id='mahmudhasan'>, inputs=<RunInputs: dataset_inputs=[]>>,\n",
       " <Run: data=<RunData: metrics={'rmse': 5.355041749098929}, params={'max_depth': '20',\n",
       "  'min_samples_leaf': '1',\n",
       "  'min_samples_split': '9',\n",
       "  'n_estimators': '19',\n",
       "  'random_state': '42'}, tags={'mlflow.runName': 'bittersweet-perch-93',\n",
       "  'mlflow.source.git.commit': '9cfff2fc135ec779f9368854e18a9f114175b662',\n",
       "  'mlflow.source.name': 'hpo.py',\n",
       "  'mlflow.source.type': 'LOCAL',\n",
       "  'mlflow.user': 'mahmudhasan'}>, info=<RunInfo: artifact_uri='/Users/mahmudhasan/Desktop/others/personal_projects/mlops_zoomcamp_solution/02-experiment-tracking/homework/artifacts_local_homework/2/53f66f67bbd442a78fef34c133e6b3a7/artifacts', end_time=1742055155705, experiment_id='2', lifecycle_stage='active', run_id='53f66f67bbd442a78fef34c133e6b3a7', run_name='bittersweet-perch-93', run_uuid='53f66f67bbd442a78fef34c133e6b3a7', start_time=1742055153538, status='FINISHED', user_id='mahmudhasan'>, inputs=<RunInputs: dataset_inputs=[]>>,\n",
       " <Run: data=<RunData: metrics={'rmse': 5.357490752366866}, params={'max_depth': '14',\n",
       "  'min_samples_leaf': '3',\n",
       "  'min_samples_split': '4',\n",
       "  'n_estimators': '26',\n",
       "  'random_state': '42'}, tags={'mlflow.runName': 'gaudy-crane-543',\n",
       "  'mlflow.source.git.commit': '9cfff2fc135ec779f9368854e18a9f114175b662',\n",
       "  'mlflow.source.name': 'hpo.py',\n",
       "  'mlflow.source.type': 'LOCAL',\n",
       "  'mlflow.user': 'mahmudhasan'}>, info=<RunInfo: artifact_uri='/Users/mahmudhasan/Desktop/others/personal_projects/mlops_zoomcamp_solution/02-experiment-tracking/homework/artifacts_local_homework/2/5ab2f9e16eaf4669925eabbd77a472f4/artifacts', end_time=1742055134317, experiment_id='2', lifecycle_stage='active', run_id='5ab2f9e16eaf4669925eabbd77a472f4', run_name='gaudy-crane-543', run_uuid='5ab2f9e16eaf4669925eabbd77a472f4', start_time=1742055131891, status='FINISHED', user_id='mahmudhasan'>, inputs=<RunInputs: dataset_inputs=[]>>,\n",
       " <Run: data=<RunData: metrics={'rmse': 5.3633599989832135}, params={'max_depth': '14',\n",
       "  'min_samples_leaf': '2',\n",
       "  'min_samples_split': '6',\n",
       "  'n_estimators': '23',\n",
       "  'random_state': '42'}, tags={'mlflow.runName': 'bittersweet-cat-215',\n",
       "  'mlflow.source.git.commit': '9cfff2fc135ec779f9368854e18a9f114175b662',\n",
       "  'mlflow.source.name': 'hpo.py',\n",
       "  'mlflow.source.type': 'LOCAL',\n",
       "  'mlflow.user': 'mahmudhasan'}>, info=<RunInfo: artifact_uri='/Users/mahmudhasan/Desktop/others/personal_projects/mlops_zoomcamp_solution/02-experiment-tracking/homework/artifacts_local_homework/2/840344e10aa24632bc6a77fd0ad426d1/artifacts', end_time=1742055148550, experiment_id='2', lifecycle_stage='active', run_id='840344e10aa24632bc6a77fd0ad426d1', run_name='bittersweet-cat-215', run_uuid='840344e10aa24632bc6a77fd0ad426d1', start_time=1742055146494, status='FINISHED', user_id='mahmudhasan'>, inputs=<RunInputs: dataset_inputs=[]>>]"
      ]
     },
     "execution_count": 18,
     "metadata": {},
     "output_type": "execute_result"
    }
   ],
   "source": [
    "#getting top 5 runs with lowest rmse\n",
    "runs=client.search_runs(\n",
    "    experiment_ids=2,\n",
    "    run_view_type=ViewType.ACTIVE_ONLY,\n",
    "    max_results=5,\n",
    "    order_by=[\"metrics.rmse ASC\"]\n",
    ")\n",
    "runs"
   ]
  },
  {
   "cell_type": "code",
   "execution_count": null,
   "metadata": {},
   "outputs": [
    {
     "data": {
      "text/plain": [
       "5.335419588556921"
      ]
     },
     "execution_count": 21,
     "metadata": {},
     "output_type": "execute_result"
    }
   ],
   "source": [
    "#getting metric value of a run\n",
    "runs[0].data.metrics['rmse']"
   ]
  },
  {
   "cell_type": "code",
   "execution_count": null,
   "metadata": {},
   "outputs": [
    {
     "data": {
      "text/plain": [
       "{'max_depth': '19',\n",
       " 'min_samples_leaf': '2',\n",
       " 'min_samples_split': '2',\n",
       " 'n_estimators': '11',\n",
       " 'random_state': '42'}"
      ]
     },
     "execution_count": 23,
     "metadata": {},
     "output_type": "execute_result"
    }
   ],
   "source": [
    "#getting parameters of a run\n",
    "runs[0].data.params"
   ]
  },
  {
   "cell_type": "code",
   "execution_count": 25,
   "metadata": {},
   "outputs": [
    {
     "data": {
      "text/plain": [
       "'0706e16841e7446092d526b4b5d368cc'"
      ]
     },
     "execution_count": 25,
     "metadata": {},
     "output_type": "execute_result"
    }
   ],
   "source": [
    "#getting run id\n",
    "runs[0].info.run_id"
   ]
  },
  {
   "cell_type": "markdown",
   "metadata": {},
   "source": [
    "### Running the script"
   ]
  },
  {
   "cell_type": "code",
   "execution_count": 26,
   "metadata": {},
   "outputs": [
    {
     "name": "stdout",
     "output_type": "stream",
     "text": [
      "2025/03/15 22:49:15 WARNING mlflow.utils.autologging_utils: MLflow sklearn autologging is known to be compatible with 0.24.1 <= scikit-learn <= 1.5.2, but the installed version is 1.6.1. If you encounter errors during autologging, try upgrading / downgrading scikit-learn to a compatible version, or try upgrading MLflow.\n",
      "2025/03/15 22:49:15 WARNING mlflow.sklearn: Failed to log training dataset information to MLflow Tracking. Reason: 'numpy.ndarray' object has no attribute 'toarray'\n",
      "🏃 View run wistful-chimp-503 at: http://127.0.0.1:5000/#/experiments/3/runs/6fc000ba539a46379051b251a7594e2b\n",
      "🧪 View experiment at: http://127.0.0.1:5000/#/experiments/3\n",
      "2025/03/15 22:49:20 WARNING mlflow.sklearn: Failed to log training dataset information to MLflow Tracking. Reason: 'numpy.ndarray' object has no attribute 'toarray'\n",
      "🏃 View run adventurous-wren-722 at: http://127.0.0.1:5000/#/experiments/3/runs/dbe3734af6b44ac39f3cf21bb2cecfa2\n",
      "🧪 View experiment at: http://127.0.0.1:5000/#/experiments/3\n",
      "2025/03/15 22:49:28 WARNING mlflow.sklearn: Failed to log training dataset information to MLflow Tracking. Reason: 'numpy.ndarray' object has no attribute 'toarray'\n",
      "🏃 View run serious-mule-684 at: http://127.0.0.1:5000/#/experiments/3/runs/307391594b3c4c92a9649bc09ecf18ac\n",
      "🧪 View experiment at: http://127.0.0.1:5000/#/experiments/3\n",
      "2025/03/15 22:49:34 WARNING mlflow.sklearn: Failed to log training dataset information to MLflow Tracking. Reason: 'numpy.ndarray' object has no attribute 'toarray'\n",
      "🏃 View run crawling-snail-95 at: http://127.0.0.1:5000/#/experiments/3/runs/c64a56805f3e4d2d963ffd5fa81270fc\n",
      "🧪 View experiment at: http://127.0.0.1:5000/#/experiments/3\n",
      "2025/03/15 22:49:39 WARNING mlflow.sklearn: Failed to log training dataset information to MLflow Tracking. Reason: 'numpy.ndarray' object has no attribute 'toarray'\n",
      "🏃 View run beautiful-newt-629 at: http://127.0.0.1:5000/#/experiments/3/runs/e037fb5f73c1443a889bc85672734603\n",
      "🧪 View experiment at: http://127.0.0.1:5000/#/experiments/3\n",
      "Successfully registered model 'rf-best-model'.\n",
      "2025/03/15 22:49:44 INFO mlflow.store.model_registry.abstract_store: Waiting up to 300 seconds for model version to finish creation. Model name: rf-best-model, version 1\n",
      "Created version '1' of model 'rf-best-model'.\n"
     ]
    }
   ],
   "source": [
    "!python register_model.py"
   ]
  },
  {
   "cell_type": "markdown",
   "metadata": {},
   "source": [
    "Answer: 5.567"
   ]
  }
 ],
 "metadata": {
  "kernelspec": {
   "display_name": "env_mlops_zoomcamp_solution",
   "language": "python",
   "name": "python3"
  },
  "language_info": {
   "codemirror_mode": {
    "name": "ipython",
    "version": 3
   },
   "file_extension": ".py",
   "mimetype": "text/x-python",
   "name": "python",
   "nbconvert_exporter": "python",
   "pygments_lexer": "ipython3",
   "version": "3.12.7"
  }
 },
 "nbformat": 4,
 "nbformat_minor": 2
}
