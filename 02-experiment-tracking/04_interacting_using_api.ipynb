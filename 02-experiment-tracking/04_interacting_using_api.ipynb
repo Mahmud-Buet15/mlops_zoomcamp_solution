{
 "cells": [
  {
   "cell_type": "markdown",
   "metadata": {},
   "source": [
    "Till now, we've experimented and managed using Mlflow UI\n",
    "\n",
    "Now we'll interact with MLflow using API"
   ]
  },
  {
   "cell_type": "code",
   "execution_count": 1,
   "metadata": {},
   "outputs": [],
   "source": [
    "import mlflow"
   ]
  },
  {
   "cell_type": "markdown",
   "metadata": {},
   "source": [
    "### Connecting"
   ]
  },
  {
   "cell_type": "code",
   "execution_count": 2,
   "metadata": {},
   "outputs": [],
   "source": [
    "from mlflow.tracking import MlflowClient\n",
    "\n",
    "MLFLOW_TRACKING_URI = \"sqlite:///mlflow.db\"\n",
    "\n",
    "client=MlflowClient(tracking_uri=MLFLOW_TRACKING_URI)"
   ]
  },
  {
   "cell_type": "markdown",
   "metadata": {},
   "source": [
    "### Creating an experiment"
   ]
  },
  {
   "cell_type": "code",
   "execution_count": 5,
   "metadata": {},
   "outputs": [
    {
     "data": {
      "text/plain": [
       "'2'"
      ]
     },
     "execution_count": 5,
     "metadata": {},
     "output_type": "execute_result"
    }
   ],
   "source": [
    "client.create_experiment(name=\"test-experiment\")"
   ]
  },
  {
   "cell_type": "markdown",
   "metadata": {},
   "source": [
    "### Deep dive into experiments"
   ]
  },
  {
   "cell_type": "markdown",
   "metadata": {},
   "source": [
    "#### Getting details of runs"
   ]
  },
  {
   "cell_type": "code",
   "execution_count": 13,
   "metadata": {},
   "outputs": [],
   "source": [
    "from mlflow.entities.view_type import ViewType\n",
    "\n",
    "runs=client.search_runs(\n",
    "    experiment_ids='1',\n",
    "    # filter_string=\"\",    \n",
    "    filter_string=\"metrics.rmse < 6.15\",  \n",
    "    run_view_type=ViewType.ACTIVE_ONLY,   #get only active runs\n",
    "    max_results=5,\n",
    "    order_by= [\"metrics.rmse ASC\"]\n",
    ")"
   ]
  },
  {
   "cell_type": "code",
   "execution_count": 14,
   "metadata": {},
   "outputs": [
    {
     "data": {
      "text/plain": [
       "[<Run: data=<RunData: metrics={'rmse': 6.149702691101375}, params={'learning_rate': '0.1197695995106272',\n",
       "  'max_depth': '6',\n",
       "  'min_child_weight': '1.9909299773230704',\n",
       "  'objective': 'reg:linear',\n",
       "  'reg_alpha': '0.007622823128939152',\n",
       "  'reg_lambda': '0.05883529019487995',\n",
       "  'seed': '42'}, tags={'mlflow.log-model.history': '[{\"run_id\": \"ed52e50ff78e46d3aa0ebef6b663a20d\", '\n",
       "                              '\"artifact_path\": \"models_mlflow\", '\n",
       "                              '\"utc_time_created\": \"2025-03-10 '\n",
       "                              '14:18:39.777441\", \"model_uuid\": '\n",
       "                              '\"377f6af9e03a44e69faec1ba44a8998b\", \"flavors\": '\n",
       "                              '{\"python_function\": {\"loader_module\": '\n",
       "                              '\"mlflow.xgboost\", \"python_version\": \"3.12.7\", '\n",
       "                              '\"data\": \"model.xgb\", \"env\": {\"conda\": '\n",
       "                              '\"conda.yaml\", \"virtualenv\": \"python_env.yaml\"}}, '\n",
       "                              '\"xgboost\": {\"xgb_version\": \"2.1.3\", \"data\": '\n",
       "                              '\"model.xgb\", \"model_class\": '\n",
       "                              '\"xgboost.core.Booster\", \"model_format\": \"xgb\", '\n",
       "                              '\"code\": null}}}]',\n",
       "  'mlflow.runName': 'zealous-donkey-712',\n",
       "  'mlflow.source.name': '/Users/mahmudhasan/Desktop/others/personal_projects/mlops_zoomcamp_solution/env_mlops_zoomcamp_solution/lib/python3.12/site-packages/ipykernel_launcher.py',\n",
       "  'mlflow.source.type': 'LOCAL',\n",
       "  'mlflow.user': 'mahmudhasan'}>, info=<RunInfo: artifact_uri='/Users/mahmudhasan/Desktop/others/personal_projects/mlops_zoomcamp_solution/02-experiment-tracking/mlruns/1/ed52e50ff78e46d3aa0ebef6b663a20d/artifacts', end_time=1741616321895, experiment_id='1', lifecycle_stage='active', run_id='ed52e50ff78e46d3aa0ebef6b663a20d', run_name='zealous-donkey-712', run_uuid='ed52e50ff78e46d3aa0ebef6b663a20d', start_time=1741616315631, status='FINISHED', user_id='mahmudhasan'>, inputs=<RunInputs: dataset_inputs=[]>>,\n",
       " <Run: data=<RunData: metrics={'rmse': 6.149702691101375}, params={'learning_rate': '0.1197695995106272',\n",
       "  'max_depth': '6',\n",
       "  'min_child_weight': '1.9909299773230704',\n",
       "  'objective': 'reg:linear',\n",
       "  'reg_alpha': '0.007622823128939152',\n",
       "  'reg_lambda': '0.05883529019487995',\n",
       "  'seed': '42'}, tags={'mlflow.runName': 'grandiose-kite-764',\n",
       "  'mlflow.source.name': '/Users/mahmudhasan/Desktop/others/personal_projects/mlops_zoomcamp_solution/env_mlops_zoomcamp_solution/lib/python3.12/site-packages/ipykernel_launcher.py',\n",
       "  'mlflow.source.type': 'LOCAL',\n",
       "  'mlflow.user': 'mahmudhasan',\n",
       "  'model': 'xgboost'}>, info=<RunInfo: artifact_uri='/Users/mahmudhasan/Desktop/others/personal_projects/mlops_zoomcamp_solution/02-experiment-tracking/mlruns/1/9d3499d15365492bb9301a971cb18271/artifacts', end_time=1741613490490, experiment_id='1', lifecycle_stage='active', run_id='9d3499d15365492bb9301a971cb18271', run_name='grandiose-kite-764', run_uuid='9d3499d15365492bb9301a971cb18271', start_time=1741613484615, status='FINISHED', user_id='mahmudhasan'>, inputs=<RunInputs: dataset_inputs=[]>>]"
      ]
     },
     "execution_count": 14,
     "metadata": {},
     "output_type": "execute_result"
    }
   ],
   "source": [
    "runs"
   ]
  },
  {
   "cell_type": "code",
   "execution_count": 15,
   "metadata": {},
   "outputs": [
    {
     "name": "stdout",
     "output_type": "stream",
     "text": [
      "run id: ed52e50ff78e46d3aa0ebef6b663a20d; rmse: 6.149702691101375\n",
      "run id: 9d3499d15365492bb9301a971cb18271; rmse: 6.149702691101375\n"
     ]
    }
   ],
   "source": [
    "for run in runs:\n",
    "    print(f\"run id: {run.info.run_id}; rmse: {run.data.metrics['rmse']}\")"
   ]
  },
  {
   "cell_type": "markdown",
   "metadata": {},
   "source": [
    "#### Registering models\n",
    "\n",
    "Note: If model already exists, a new version of that model will be created."
   ]
  },
  {
   "cell_type": "code",
   "execution_count": 16,
   "metadata": {},
   "outputs": [],
   "source": [
    "import mlflow\n",
    "\n",
    "mlflow.set_tracking_uri(MLFLOW_TRACKING_URI)"
   ]
  },
  {
   "cell_type": "code",
   "execution_count": 17,
   "metadata": {},
   "outputs": [
    {
     "name": "stderr",
     "output_type": "stream",
     "text": [
      "Registered model 'nyc-taxi-regressor' already exists. Creating a new version of this model...\n",
      "Created version '3' of model 'nyc-taxi-regressor'.\n"
     ]
    },
    {
     "data": {
      "text/plain": [
       "<ModelVersion: aliases=[], creation_timestamp=1741620639096, current_stage='None', description=None, last_updated_timestamp=1741620639096, name='nyc-taxi-regressor', run_id='9d3499d15365492bb9301a971cb18271', run_link=None, source='/Users/mahmudhasan/Desktop/others/personal_projects/mlops_zoomcamp_solution/02-experiment-tracking/mlruns/1/9d3499d15365492bb9301a971cb18271/artifacts/model', status='READY', status_message=None, tags={}, user_id=None, version=3>"
      ]
     },
     "execution_count": 17,
     "metadata": {},
     "output_type": "execute_result"
    }
   ],
   "source": [
    "run_id='9d3499d15365492bb9301a971cb18271'\n",
    "model_uri=f\"runs:/{run_id}/model\"\n",
    "mlflow.register_model(model_uri=model_uri,name='nyc-taxi-regressor')"
   ]
  },
  {
   "cell_type": "markdown",
   "metadata": {},
   "source": [
    "#### Transition a model from one stage to another"
   ]
  },
  {
   "cell_type": "markdown",
   "metadata": {},
   "source": [
    "##### Method 1 (deprecated method) "
   ]
  },
  {
   "cell_type": "code",
   "execution_count": 21,
   "metadata": {},
   "outputs": [
    {
     "data": {
      "text/plain": [
       "<RegisteredModel: aliases={'prod': 1, 'stage': 2}, creation_timestamp=1741618421334, description='The NYC Taxi Prediction for Trip duration', last_updated_timestamp=1741620639096, latest_versions=[<ModelVersion: aliases=[], creation_timestamp=1741620639096, current_stage='None', description=None, last_updated_timestamp=1741620639096, name='nyc-taxi-regressor', run_id='9d3499d15365492bb9301a971cb18271', run_link=None, source='/Users/mahmudhasan/Desktop/others/personal_projects/mlops_zoomcamp_solution/02-experiment-tracking/mlruns/1/9d3499d15365492bb9301a971cb18271/artifacts/model', status='READY', status_message=None, tags={}, user_id=None, version=3>], name='nyc-taxi-regressor', tags={}>"
      ]
     },
     "execution_count": 21,
     "metadata": {},
     "output_type": "execute_result"
    }
   ],
   "source": [
    "model_name='nyc-taxi-regressor'\n",
    "model_info=client.get_registered_model(name=model_name)\n",
    "\n",
    "model_info"
   ]
  },
  {
   "cell_type": "code",
   "execution_count": 23,
   "metadata": {},
   "outputs": [
    {
     "data": {
      "text/plain": [
       "[<ModelVersion: aliases=[], creation_timestamp=1741620639096, current_stage='None', description=None, last_updated_timestamp=1741620639096, name='nyc-taxi-regressor', run_id='9d3499d15365492bb9301a971cb18271', run_link=None, source='/Users/mahmudhasan/Desktop/others/personal_projects/mlops_zoomcamp_solution/02-experiment-tracking/mlruns/1/9d3499d15365492bb9301a971cb18271/artifacts/model', status='READY', status_message=None, tags={}, user_id=None, version=3>]"
      ]
     },
     "execution_count": 23,
     "metadata": {},
     "output_type": "execute_result"
    }
   ],
   "source": [
    "latest_versions=model_info.latest_versions\n",
    "latest_versions"
   ]
  },
  {
   "cell_type": "code",
   "execution_count": 25,
   "metadata": {},
   "outputs": [
    {
     "name": "stdout",
     "output_type": "stream",
     "text": [
      "version: 3; stage: None\n"
     ]
    }
   ],
   "source": [
    "for version in latest_versions:\n",
    "    print(f\"version: {version.version}; stage: {version.current_stage}\")"
   ]
  },
  {
   "cell_type": "code",
   "execution_count": null,
   "metadata": {},
   "outputs": [
    {
     "name": "stderr",
     "output_type": "stream",
     "text": [
      "/var/folders/c5/h32wl90d7v96kfmc_f463mym0000gp/T/ipykernel_30151/1543122964.py:5: FutureWarning: ``mlflow.tracking.client.MlflowClient.transition_model_version_stage`` is deprecated since 2.9.0. Model registry stages will be removed in a future major release. To learn more about the deprecation of model registry stages, see our migration guide here: https://mlflow.org/docs/latest/model-registry.html#migrating-from-stages\n",
      "  client.transition_model_version_stage(\n"
     ]
    },
    {
     "data": {
      "text/plain": [
       "<ModelVersion: aliases=[], creation_timestamp=1741620639096, current_stage='Staging', description=None, last_updated_timestamp=1741622183190, name='nyc-taxi-regressor', run_id='9d3499d15365492bb9301a971cb18271', run_link=None, source='/Users/mahmudhasan/Desktop/others/personal_projects/mlops_zoomcamp_solution/02-experiment-tracking/mlruns/1/9d3499d15365492bb9301a971cb18271/artifacts/model', status='READY', status_message=None, tags={}, user_id=None, version=3>"
      ]
     },
     "execution_count": 28,
     "metadata": {},
     "output_type": "execute_result"
    }
   ],
   "source": [
    "#transitioning model\n",
    "model_version=3\n",
    "\n",
    "new_stage=\"Staging\"\n",
    "\n",
    "client.transition_model_version_stage(\n",
    "    name=model_name,\n",
    "    version=model_version,\n",
    "    stage=new_stage,\n",
    "    archive_existing_versions=False\n",
    ")"
   ]
  },
  {
   "cell_type": "code",
   "execution_count": 30,
   "metadata": {},
   "outputs": [
    {
     "data": {
      "text/plain": [
       "<ModelVersion: aliases=[], creation_timestamp=1741620639096, current_stage='Staging', description='The model version 3 was transitioned to Staging on 2025-03-10', last_updated_timestamp=1741622213211, name='nyc-taxi-regressor', run_id='9d3499d15365492bb9301a971cb18271', run_link=None, source='/Users/mahmudhasan/Desktop/others/personal_projects/mlops_zoomcamp_solution/02-experiment-tracking/mlruns/1/9d3499d15365492bb9301a971cb18271/artifacts/model', status='READY', status_message=None, tags={}, user_id=None, version=3>"
      ]
     },
     "execution_count": 30,
     "metadata": {},
     "output_type": "execute_result"
    }
   ],
   "source": [
    "from datetime import datetime\n",
    "\n",
    "date=datetime.today().date()\n",
    "\n",
    "client.update_model_version(\n",
    "    name=model_name,\n",
    "    version=model_version,\n",
    "    description=f\"The model version {model_version} was transitioned to {new_stage} on {date}\"\n",
    ")"
   ]
  },
  {
   "cell_type": "markdown",
   "metadata": {},
   "source": [
    "##### Method 2"
   ]
  },
  {
   "cell_type": "code",
   "execution_count": null,
   "metadata": {},
   "outputs": [
    {
     "data": {
      "text/plain": [
       "<ModelVersion: aliases=['stage'], creation_timestamp=1741618549842, current_stage='None', description='', last_updated_timestamp=1741618549842, name='nyc-taxi-regressor', run_id='2a96f7f7df7449d79da04cd52fe099e7', run_link='', source='/Users/mahmudhasan/Desktop/others/personal_projects/mlops_zoomcamp_solution/02-experiment-tracking/mlruns/1/2a96f7f7df7449d79da04cd52fe099e7/artifacts/model', status='READY', status_message=None, tags={'model': 'xgboost_v2'}, user_id=None, version=2>"
      ]
     },
     "execution_count": 34,
     "metadata": {},
     "output_type": "execute_result"
    }
   ],
   "source": [
    "model_name='nyc-taxi-regressor'\n",
    "\n",
    "model_info=client.get_model_version_by_alias(name=model_name,alias='stage')\n",
    "model_info"
   ]
  },
  {
   "cell_type": "code",
   "execution_count": 36,
   "metadata": {},
   "outputs": [],
   "source": [
    "model_version=2\n",
    "new_alias=\"prod\"\n",
    "client.set_registered_model_alias(name=model_name,alias=new_alias,version=model_version)"
   ]
  },
  {
   "cell_type": "code",
   "execution_count": 37,
   "metadata": {},
   "outputs": [
    {
     "data": {
      "text/plain": [
       "<ModelVersion: aliases=['prod', 'stage'], creation_timestamp=1741618549842, current_stage='None', description='', last_updated_timestamp=1741618549842, name='nyc-taxi-regressor', run_id='2a96f7f7df7449d79da04cd52fe099e7', run_link='', source='/Users/mahmudhasan/Desktop/others/personal_projects/mlops_zoomcamp_solution/02-experiment-tracking/mlruns/1/2a96f7f7df7449d79da04cd52fe099e7/artifacts/model', status='READY', status_message=None, tags={'model': 'xgboost_v2'}, user_id=None, version=2>"
      ]
     },
     "execution_count": 37,
     "metadata": {},
     "output_type": "execute_result"
    }
   ],
   "source": [
    "model_name='nyc-taxi-regressor'\n",
    "\n",
    "model_info=client.get_model_version_by_alias(name=model_name,alias='prod')\n",
    "model_info"
   ]
  },
  {
   "cell_type": "markdown",
   "metadata": {},
   "source": [
    "Successfully added new alias for v2 model. But alias of v1 model is removed in this process.\n",
    "\n",
    "Let's give 'prod' to v1 model"
   ]
  },
  {
   "cell_type": "code",
   "execution_count": 38,
   "metadata": {},
   "outputs": [
    {
     "data": {
      "text/plain": [
       "<ModelVersion: aliases=['prod'], creation_timestamp=1741618421364, current_stage='None', description='', last_updated_timestamp=1741618421364, name='nyc-taxi-regressor', run_id='ed52e50ff78e46d3aa0ebef6b663a20d', run_link='', source='/Users/mahmudhasan/Desktop/others/personal_projects/mlops_zoomcamp_solution/02-experiment-tracking/mlruns/1/ed52e50ff78e46d3aa0ebef6b663a20d/artifacts/models_mlflow', status='READY', status_message=None, tags={'model': 'xgboost'}, user_id=None, version=1>"
      ]
     },
     "execution_count": 38,
     "metadata": {},
     "output_type": "execute_result"
    }
   ],
   "source": [
    "model_version=1\n",
    "new_alias=\"prod\"\n",
    "client.set_registered_model_alias(name=model_name,alias=new_alias,version=model_version)\n",
    "\n",
    "\n",
    "model_info=client.get_model_version_by_alias(name=model_name,alias='prod')\n",
    "model_info"
   ]
  },
  {
   "cell_type": "code",
   "execution_count": 39,
   "metadata": {},
   "outputs": [
    {
     "data": {
      "text/plain": [
       "'/Users/mahmudhasan/Desktop/others/personal_projects/mlops_zoomcamp_solution/02-experiment-tracking/mlruns/1/ed52e50ff78e46d3aa0ebef6b663a20d/artifacts/models_mlflow'"
      ]
     },
     "execution_count": 39,
     "metadata": {},
     "output_type": "execute_result"
    }
   ],
   "source": [
    "model_info.source"
   ]
  },
  {
   "cell_type": "code",
   "execution_count": 41,
   "metadata": {},
   "outputs": [
    {
     "data": {
      "text/plain": [
       "<xgboost.core.Booster at 0x14e3e29c0>"
      ]
     },
     "execution_count": 41,
     "metadata": {},
     "output_type": "execute_result"
    }
   ],
   "source": [
    "model=mlflow.xgboost.load_model(model_info.source)\n",
    "model"
   ]
  },
  {
   "cell_type": "markdown",
   "metadata": {},
   "source": [
    "#### Prediction pipeline"
   ]
  },
  {
   "cell_type": "code",
   "execution_count": 65,
   "metadata": {},
   "outputs": [],
   "source": [
    "from sklearn.metrics import root_mean_squared_error\n",
    "import pandas as pd\n",
    "import xgboost as xgb\n",
    "\n",
    "def read_dataframe(filename):\n",
    "    df=pd.read_parquet(filename)\n",
    "\n",
    "    #getting trip duration\n",
    "    df['duration']=df.lpep_dropoff_datetime-df.lpep_pickup_datetime\n",
    "    df.duration=df.duration.apply(lambda td: td.total_seconds()/60)\n",
    "\n",
    "    #filtering\n",
    "    df=df[((df.duration>=1) & (df.duration<=60))]\n",
    "\n",
    "    categorical=['PULocationID','DOLocationID']\n",
    "    numerical=['trip_distance']\n",
    "\n",
    "    df[categorical]=df[categorical].astype(str)  #converting to string\n",
    "\n",
    "    return df\n",
    "\n",
    "\n",
    "def preprocess(df,dv):\n",
    "    categorical=['PULocationID','DOLocationID']\n",
    "    numerical=['trip_distance']\n",
    "    train_dict=df[categorical+numerical].to_dict(orient='records')\n",
    "\n",
    "    return dv.transform(train_dict)\n",
    "\n",
    "\n",
    "def test_model(X_test, y_test,model_name='nyc-taxi-regressor', alias='prod'):\n",
    "    logged_model=client.get_model_version_by_alias(name=model_name, alias=alias).source\n",
    "    model=mlflow.xgboost.load_model(logged_model)\n",
    "\n",
    "    #get DMatrix object\n",
    "    test=xgb.DMatrix(X_test,label=y_test)\n",
    "    y_pred= model.predict(test)\n",
    "\n",
    "    return {'rmse':root_mean_squared_error(y_test,y_pred)}\n",
    "\n",
    "\n",
    "def test_model_v2(X_test, y_test,model_name='nyc-taxi-regressor', alias='prod'):\n",
    "    logged_model=client.get_model_version_by_alias(name=model_name, alias=alias).source\n",
    "    model=mlflow.pyfunc.load_model(logged_model)\n",
    "    y_pred= model.predict(X_test)\n",
    "\n",
    "    return {'rmse':root_mean_squared_error(y_test,y_pred)}"
   ]
  },
  {
   "cell_type": "code",
   "execution_count": 57,
   "metadata": {},
   "outputs": [
    {
     "data": {
      "text/html": [
       "<div>\n",
       "<style scoped>\n",
       "    .dataframe tbody tr th:only-of-type {\n",
       "        vertical-align: middle;\n",
       "    }\n",
       "\n",
       "    .dataframe tbody tr th {\n",
       "        vertical-align: top;\n",
       "    }\n",
       "\n",
       "    .dataframe thead th {\n",
       "        text-align: right;\n",
       "    }\n",
       "</style>\n",
       "<table border=\"1\" class=\"dataframe\">\n",
       "  <thead>\n",
       "    <tr style=\"text-align: right;\">\n",
       "      <th></th>\n",
       "      <th>VendorID</th>\n",
       "      <th>lpep_pickup_datetime</th>\n",
       "      <th>lpep_dropoff_datetime</th>\n",
       "      <th>store_and_fwd_flag</th>\n",
       "      <th>RatecodeID</th>\n",
       "      <th>PULocationID</th>\n",
       "      <th>DOLocationID</th>\n",
       "      <th>passenger_count</th>\n",
       "      <th>trip_distance</th>\n",
       "      <th>fare_amount</th>\n",
       "      <th>...</th>\n",
       "      <th>mta_tax</th>\n",
       "      <th>tip_amount</th>\n",
       "      <th>tolls_amount</th>\n",
       "      <th>ehail_fee</th>\n",
       "      <th>improvement_surcharge</th>\n",
       "      <th>total_amount</th>\n",
       "      <th>payment_type</th>\n",
       "      <th>trip_type</th>\n",
       "      <th>congestion_surcharge</th>\n",
       "      <th>duration</th>\n",
       "    </tr>\n",
       "  </thead>\n",
       "  <tbody>\n",
       "    <tr>\n",
       "      <th>0</th>\n",
       "      <td>2</td>\n",
       "      <td>2021-03-01 00:05:42</td>\n",
       "      <td>2021-03-01 00:14:03</td>\n",
       "      <td>N</td>\n",
       "      <td>1.0</td>\n",
       "      <td>83</td>\n",
       "      <td>129</td>\n",
       "      <td>1.0</td>\n",
       "      <td>1.56</td>\n",
       "      <td>7.5</td>\n",
       "      <td>...</td>\n",
       "      <td>0.5</td>\n",
       "      <td>0.00</td>\n",
       "      <td>0.0</td>\n",
       "      <td>None</td>\n",
       "      <td>0.3</td>\n",
       "      <td>8.80</td>\n",
       "      <td>1.0</td>\n",
       "      <td>1.0</td>\n",
       "      <td>0.0</td>\n",
       "      <td>8.350000</td>\n",
       "    </tr>\n",
       "    <tr>\n",
       "      <th>1</th>\n",
       "      <td>2</td>\n",
       "      <td>2021-03-01 00:21:03</td>\n",
       "      <td>2021-03-01 00:26:17</td>\n",
       "      <td>N</td>\n",
       "      <td>1.0</td>\n",
       "      <td>243</td>\n",
       "      <td>235</td>\n",
       "      <td>1.0</td>\n",
       "      <td>0.96</td>\n",
       "      <td>6.0</td>\n",
       "      <td>...</td>\n",
       "      <td>0.5</td>\n",
       "      <td>0.00</td>\n",
       "      <td>0.0</td>\n",
       "      <td>None</td>\n",
       "      <td>0.3</td>\n",
       "      <td>7.30</td>\n",
       "      <td>2.0</td>\n",
       "      <td>1.0</td>\n",
       "      <td>0.0</td>\n",
       "      <td>5.233333</td>\n",
       "    </tr>\n",
       "    <tr>\n",
       "      <th>2</th>\n",
       "      <td>2</td>\n",
       "      <td>2021-03-01 00:02:06</td>\n",
       "      <td>2021-03-01 00:22:26</td>\n",
       "      <td>N</td>\n",
       "      <td>1.0</td>\n",
       "      <td>75</td>\n",
       "      <td>242</td>\n",
       "      <td>1.0</td>\n",
       "      <td>9.93</td>\n",
       "      <td>28.0</td>\n",
       "      <td>...</td>\n",
       "      <td>0.5</td>\n",
       "      <td>2.00</td>\n",
       "      <td>0.0</td>\n",
       "      <td>None</td>\n",
       "      <td>0.3</td>\n",
       "      <td>31.30</td>\n",
       "      <td>1.0</td>\n",
       "      <td>1.0</td>\n",
       "      <td>0.0</td>\n",
       "      <td>20.333333</td>\n",
       "    </tr>\n",
       "    <tr>\n",
       "      <th>3</th>\n",
       "      <td>2</td>\n",
       "      <td>2021-03-01 00:24:03</td>\n",
       "      <td>2021-03-01 00:31:43</td>\n",
       "      <td>N</td>\n",
       "      <td>1.0</td>\n",
       "      <td>242</td>\n",
       "      <td>208</td>\n",
       "      <td>1.0</td>\n",
       "      <td>2.57</td>\n",
       "      <td>9.5</td>\n",
       "      <td>...</td>\n",
       "      <td>0.5</td>\n",
       "      <td>0.00</td>\n",
       "      <td>0.0</td>\n",
       "      <td>None</td>\n",
       "      <td>0.3</td>\n",
       "      <td>10.80</td>\n",
       "      <td>2.0</td>\n",
       "      <td>1.0</td>\n",
       "      <td>0.0</td>\n",
       "      <td>7.666667</td>\n",
       "    </tr>\n",
       "    <tr>\n",
       "      <th>4</th>\n",
       "      <td>1</td>\n",
       "      <td>2021-03-01 00:11:10</td>\n",
       "      <td>2021-03-01 00:14:46</td>\n",
       "      <td>N</td>\n",
       "      <td>1.0</td>\n",
       "      <td>41</td>\n",
       "      <td>151</td>\n",
       "      <td>1.0</td>\n",
       "      <td>0.80</td>\n",
       "      <td>5.0</td>\n",
       "      <td>...</td>\n",
       "      <td>0.5</td>\n",
       "      <td>1.85</td>\n",
       "      <td>0.0</td>\n",
       "      <td>None</td>\n",
       "      <td>0.3</td>\n",
       "      <td>8.15</td>\n",
       "      <td>1.0</td>\n",
       "      <td>1.0</td>\n",
       "      <td>0.0</td>\n",
       "      <td>3.600000</td>\n",
       "    </tr>\n",
       "  </tbody>\n",
       "</table>\n",
       "<p>5 rows × 21 columns</p>\n",
       "</div>"
      ],
      "text/plain": [
       "   VendorID lpep_pickup_datetime lpep_dropoff_datetime store_and_fwd_flag  \\\n",
       "0         2  2021-03-01 00:05:42   2021-03-01 00:14:03                  N   \n",
       "1         2  2021-03-01 00:21:03   2021-03-01 00:26:17                  N   \n",
       "2         2  2021-03-01 00:02:06   2021-03-01 00:22:26                  N   \n",
       "3         2  2021-03-01 00:24:03   2021-03-01 00:31:43                  N   \n",
       "4         1  2021-03-01 00:11:10   2021-03-01 00:14:46                  N   \n",
       "\n",
       "   RatecodeID PULocationID DOLocationID  passenger_count  trip_distance  \\\n",
       "0         1.0           83          129              1.0           1.56   \n",
       "1         1.0          243          235              1.0           0.96   \n",
       "2         1.0           75          242              1.0           9.93   \n",
       "3         1.0          242          208              1.0           2.57   \n",
       "4         1.0           41          151              1.0           0.80   \n",
       "\n",
       "   fare_amount  ...  mta_tax  tip_amount  tolls_amount  ehail_fee  \\\n",
       "0          7.5  ...      0.5        0.00           0.0       None   \n",
       "1          6.0  ...      0.5        0.00           0.0       None   \n",
       "2         28.0  ...      0.5        2.00           0.0       None   \n",
       "3          9.5  ...      0.5        0.00           0.0       None   \n",
       "4          5.0  ...      0.5        1.85           0.0       None   \n",
       "\n",
       "  improvement_surcharge  total_amount  payment_type  trip_type  \\\n",
       "0                   0.3          8.80           1.0        1.0   \n",
       "1                   0.3          7.30           2.0        1.0   \n",
       "2                   0.3         31.30           1.0        1.0   \n",
       "3                   0.3         10.80           2.0        1.0   \n",
       "4                   0.3          8.15           1.0        1.0   \n",
       "\n",
       "   congestion_surcharge   duration  \n",
       "0                   0.0   8.350000  \n",
       "1                   0.0   5.233333  \n",
       "2                   0.0  20.333333  \n",
       "3                   0.0   7.666667  \n",
       "4                   0.0   3.600000  \n",
       "\n",
       "[5 rows x 21 columns]"
      ]
     },
     "execution_count": 57,
     "metadata": {},
     "output_type": "execute_result"
    }
   ],
   "source": [
    "df_test=read_dataframe('./data/green_tripdata_2021-03.parquet')\n",
    "df_test.head()"
   ]
  },
  {
   "cell_type": "code",
   "execution_count": 46,
   "metadata": {},
   "outputs": [
    {
     "name": "stderr",
     "output_type": "stream",
     "text": [
      "/Users/mahmudhasan/Desktop/others/personal_projects/mlops_zoomcamp_solution/env_mlops_zoomcamp_solution/lib/python3.12/site-packages/tqdm/auto.py:21: TqdmWarning: IProgress not found. Please update jupyter and ipywidgets. See https://ipywidgets.readthedocs.io/en/stable/user_install.html\n",
      "  from .autonotebook import tqdm as notebook_tqdm\n",
      "Downloading artifacts: 100%|██████████| 1/1 [00:00<00:00, 2359.00it/s]\n"
     ]
    },
    {
     "data": {
      "text/plain": [
       "'/Users/mahmudhasan/Desktop/others/personal_projects/mlops_zoomcamp_solution/02-experiment-tracking/preprocessor'"
      ]
     },
     "execution_count": 46,
     "metadata": {},
     "output_type": "execute_result"
    }
   ],
   "source": [
    "#getting dictvectorizer\n",
    "client.download_artifacts(run_id='ed52e50ff78e46d3aa0ebef6b663a20d',path='preprocessor',dst_path='.')"
   ]
  },
  {
   "cell_type": "code",
   "execution_count": 48,
   "metadata": {},
   "outputs": [],
   "source": [
    "import pickle\n",
    "\n",
    "with open(\"preprocessor/preprocessor.b\",'rb') as f_in:\n",
    "    dv=pickle.load(f_in)"
   ]
  },
  {
   "cell_type": "code",
   "execution_count": null,
   "metadata": {},
   "outputs": [
    {
     "data": {
      "text/plain": [
       "<Compressed Sparse Row sparse matrix of dtype 'float64'\n",
       "\twith 241099 stored elements and shape (80372, 507)>"
      ]
     },
     "execution_count": 58,
     "metadata": {},
     "output_type": "execute_result"
    }
   ],
   "source": [
    "X_test= preprocess(df_test,dv)\n",
    "X_test"
   ]
  },
  {
   "cell_type": "code",
   "execution_count": null,
   "metadata": {},
   "outputs": [],
   "source": [
    "target='duration'\n",
    "y_test=df_test[target]"
   ]
  },
  {
   "cell_type": "code",
   "execution_count": 64,
   "metadata": {},
   "outputs": [
    {
     "name": "stdout",
     "output_type": "stream",
     "text": [
      "CPU times: user 2.66 s, sys: 13.5 ms, total: 2.67 s\n",
      "Wall time: 397 ms\n"
     ]
    },
    {
     "data": {
      "text/plain": [
       "{'rmse': 6.076809458527859}"
      ]
     },
     "execution_count": 64,
     "metadata": {},
     "output_type": "execute_result"
    }
   ],
   "source": [
    "#method 1 (using Dmatrix object)\n",
    "%time test_model(X_test,y_test)"
   ]
  },
  {
   "cell_type": "code",
   "execution_count": 66,
   "metadata": {},
   "outputs": [
    {
     "name": "stdout",
     "output_type": "stream",
     "text": [
      "CPU times: user 2.81 s, sys: 40.1 ms, total: 2.85 s\n",
      "Wall time: 575 ms\n"
     ]
    },
    {
     "data": {
      "text/plain": [
       "{'rmse': 6.076809458527859}"
      ]
     },
     "execution_count": 66,
     "metadata": {},
     "output_type": "execute_result"
    }
   ],
   "source": [
    "#method 2 (using python object)\n",
    "%time test_model_v2(X_test,y_test)"
   ]
  },
  {
   "cell_type": "markdown",
   "metadata": {},
   "source": []
  }
 ],
 "metadata": {
  "kernelspec": {
   "display_name": "env_mlops_zoomcamp_solution",
   "language": "python",
   "name": "python3"
  },
  "language_info": {
   "codemirror_mode": {
    "name": "ipython",
    "version": 3
   },
   "file_extension": ".py",
   "mimetype": "text/x-python",
   "name": "python",
   "nbconvert_exporter": "python",
   "pygments_lexer": "ipython3",
   "version": "3.12.7"
  }
 },
 "nbformat": 4,
 "nbformat_minor": 2
}
